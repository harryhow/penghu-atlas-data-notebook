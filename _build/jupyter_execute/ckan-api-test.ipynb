{
 "cells": [
  {
   "cell_type": "markdown",
   "id": "edc699c8",
   "metadata": {},
   "source": [
    "# 實際透過 API 測試查詢 depositar 資料集 API\n",
    "> demo server 不需要 API token\n",
    "\n",
    "depositor demo site, project [url](https://demo.depositar.io/zh_Hant_TW/organization/penghu-soundscape-sample-dataset)\n",
    "## 查詢 metadata"
   ]
  },
  {
   "cell_type": "code",
   "execution_count": 1,
   "id": "a98a2795",
   "metadata": {},
   "outputs": [
    {
     "name": "stdout",
     "output_type": "stream",
     "text": [
      "Result: \n",
      "- Project Description (md) → https://demo.depositar.io/zh_Hant_TW/dataset/0ae75957-f2da-4e0e-bbb1-cdddc8345f00/resource/e801c5a0-c627-4b42-abfa-b06d1fed46c5/download/intro.md\n",
      "Result: \n",
      "- PH_00001.JPG (JPEG) → https://demo.depositar.io/zh_Hant_TW/dataset/0ae75957-f2da-4e0e-bbb1-cdddc8345f00/resource/8a385eac-f390-45a5-aeab-e27998061dc9/download/PH_00001.JPG\n"
     ]
    }
   ],
   "source": [
    "import requests\n",
    "import json\n",
    "\n",
    "dataset_id = \"0ae75957-f2da-4e0e-bbb1-cdddc8345f00\"\n",
    "url = f\"https://demo.depositar.io/api/3/action/package_show?id={dataset_id}\"\n",
    "\n",
    "res = requests.get(url)\n",
    "data = res.json()\n",
    "\n",
    "# 顯示資料集中的資源清單\n",
    "resources = data[\"result\"][\"resources\"]\n",
    "for r in resources:\n",
    "    print(f\"Result: \")\n",
    "    print(f\"- {r['name']} ({r['format']}) → {r['url']}\")"
   ]
  },
  {
   "cell_type": "markdown",
   "id": "8036749b",
   "metadata": {},
   "source": [
    "---\n",
    "\n",
    "## Dataset Title"
   ]
  },
  {
   "cell_type": "code",
   "execution_count": 2,
   "id": "7c1ab021",
   "metadata": {},
   "outputs": [
    {
     "name": "stdout",
     "output_type": "stream",
     "text": [
      "Result: \n",
      "Dataset title: Test adding a photo manually\n"
     ]
    }
   ],
   "source": [
    "print(f\"Result: \")\n",
    "print(\"Dataset title:\", data[\"result\"][\"title\"])"
   ]
  }
 ],
 "metadata": {
  "jupytext": {
   "formats": "ipynb,md:myst",
   "text_representation": {
    "extension": ".md",
    "format_name": "myst",
    "format_version": "0.13",
    "jupytext_version": "1.14.0"
   }
  },
  "kernelspec": {
   "display_name": "Python 3",
   "language": "python",
   "name": "python3"
  },
  "language_info": {
   "codemirror_mode": {
    "name": "ipython",
    "version": 3
   },
   "file_extension": ".py",
   "mimetype": "text/x-python",
   "name": "python",
   "nbconvert_exporter": "python",
   "pygments_lexer": "ipython3",
   "version": "3.9.10"
  },
  "source_map": [
   13,
   22,
   37,
   43
  ]
 },
 "nbformat": 4,
 "nbformat_minor": 5
}